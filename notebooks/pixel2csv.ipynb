{
 "cells": [
  {
   "cell_type": "code",
   "execution_count": null,
   "metadata": {},
   "outputs": [],
   "source": [
    "import ee\n",
    "ee.Initialize()"
   ]
  },
  {
   "cell_type": "code",
   "execution_count": null,
   "metadata": {},
   "outputs": [],
   "source": [
    "ee_path = 'users/balakumaran247/swSentinel/state'"
   ]
  },
  {
   "cell_type": "code",
   "execution_count": null,
   "metadata": {},
   "outputs": [],
   "source": [
    "s1_image = {\n",
    "    'TN': ee.Image(\"users/balakumaran247/swSentinel/state/TN_s1_image\"),\n",
    "    'KA': ee.Image(\"users/balakumaran247/swSentinel/state/KA_s1_image\"),\n",
    "}\n",
    "s2_image = {\n",
    "    'TN': ee.Image(\"users/balakumaran247/swSentinel/state/TN_s2_image\"),\n",
    "    'KA': ee.Image(\"users/balakumaran247/swSentinel/state/KA_s2_image\"),\n",
    "}\n",
    "water_samples = {\n",
    "    'TN': ee.FeatureCollection(\"users/balakumaran247/swSentinel/state/TN_water_samples\"),\n",
    "    'KA': ee.FeatureCollection(\"users/balakumaran247/swSentinel/state/KA_water_samples\"),\n",
    "}\n",
    "non_water_samples = {\n",
    "    'TN': ee.FeatureCollection(\"users/balakumaran247/swSentinel/state/TN_non_water_samples\"),\n",
    "    'KA': ee.FeatureCollection(\"users/balakumaran247/swSentinel/state/KA_non_water_samples\"),\n",
    "}"
   ]
  },
  {
   "cell_type": "code",
   "execution_count": null,
   "metadata": {},
   "outputs": [],
   "source": [
    "def get_values(image, points):\n",
    "    return image.sampleRegions(\n",
    "        collection=points,\n",
    "        properties=['wClass', 'State'],\n",
    "        scale=image.projection().nominalScale(),\n",
    "        geometries=True\n",
    "    )"
   ]
  },
  {
   "cell_type": "code",
   "execution_count": null,
   "metadata": {},
   "outputs": [],
   "source": [
    "def export_drive(samples, state_abb, class_name, image_name):\n",
    "    task = ee.batch.Export.table.toDrive(\n",
    "        collection=samples,\n",
    "        description=f'{image_name}_{state_abb}_{class_name}',\n",
    "        fileFormat='CSV')\n",
    "    # task.start()"
   ]
  },
  {
   "cell_type": "code",
   "execution_count": null,
   "metadata": {},
   "outputs": [],
   "source": [
    "def main(state_abb):\n",
    "    values = [(get_values(s1_image[state_abb], water_samples[state_abb]), 'water', 'S1'),\n",
    "    (get_values(s2_image[state_abb], water_samples[state_abb]), 'water', 'S2'),\n",
    "    (get_values(s1_image[state_abb], non_water_samples[state_abb]), 'nonWater', 'S1'),\n",
    "    (get_values(s2_image[state_abb], non_water_samples[state_abb]), 'nonWater', 'S2')]\n",
    "    \n",
    "    for fc, cname, simage in values:\n",
    "        export_drive(fc, state_abb, cname, simage)"
   ]
  },
  {
   "cell_type": "code",
   "execution_count": null,
   "metadata": {},
   "outputs": [],
   "source": [
    "main('TN')"
   ]
  }
 ],
 "metadata": {
  "language_info": {
   "name": "python"
  }
 },
 "nbformat": 4,
 "nbformat_minor": 2
}
