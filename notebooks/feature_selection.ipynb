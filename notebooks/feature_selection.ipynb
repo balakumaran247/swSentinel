{
 "cells": [
  {
   "cell_type": "code",
   "execution_count": 3,
   "metadata": {},
   "outputs": [],
   "source": [
    "# https://machinelearningmastery.com/feature-selection-with-numerical-input-data/#:~:text=The%20two%20most%20commonly%20used,and%20the%20mutual%20information%20statistic."
   ]
  },
  {
   "cell_type": "code",
   "execution_count": 27,
   "metadata": {},
   "outputs": [],
   "source": [
    "import pandas as pd\n",
    "import os\n",
    "from sklearn.model_selection import RepeatedStratifiedKFold, train_test_split\n",
    "from sklearn.feature_selection import SelectKBest, mutual_info_classif\n",
    "from sklearn.feature_selection import f_classif\n",
    "from sklearn.linear_model import LogisticRegression\n",
    "from sklearn.pipeline import Pipeline\n",
    "from sklearn.model_selection import GridSearchCV\n",
    "from matplotlib import pyplot as plt"
   ]
  },
  {
   "cell_type": "code",
   "execution_count": 28,
   "metadata": {},
   "outputs": [],
   "source": [
    "core_path = os.getcwd().replace(\"notebooks\",\"artifacts\")\n",
    "values_path = os.path.join(core_path, \"values.csv\")"
   ]
  },
  {
   "cell_type": "code",
   "execution_count": 29,
   "metadata": {},
   "outputs": [],
   "source": [
    "cols = pd.read_csv(values_path).columns"
   ]
  },
  {
   "cell_type": "code",
   "execution_count": 30,
   "metadata": {},
   "outputs": [],
   "source": [
    "def load_dataset(file):\n",
    "    data = pd.read_csv(file, header=None)\n",
    "    dataset = data.values\n",
    "    X = dataset[:, :-2]\n",
    "    y = dataset[:,-1]\n",
    "    return X, y"
   ]
  },
  {
   "cell_type": "code",
   "execution_count": 31,
   "metadata": {},
   "outputs": [],
   "source": [
    "X, y = load_dataset(values_path)\n",
    "X_train, X_test, y_train, y_test = train_test_split(X, y, test_size=0.33, random_state=1)"
   ]
  },
  {
   "cell_type": "code",
   "execution_count": 32,
   "metadata": {},
   "outputs": [],
   "source": [
    "def select_features(X_train, y_train, X_test, score):\n",
    "    fs = SelectKBest(score_func=score, k='all')\n",
    "    fs.fit(X_train, y_train)\n",
    "    X_train_fs = fs.transform(X_train)\n",
    "    X_test_fs = fs.transform(X_test)\n",
    "    return X_train_fs, X_test_fs, fs"
   ]
  },
  {
   "cell_type": "markdown",
   "metadata": {},
   "source": [
    "## ANOVA f-test"
   ]
  },
  {
   "cell_type": "code",
   "execution_count": 41,
   "metadata": {},
   "outputs": [
    {
     "name": "stdout",
     "output_type": "stream",
     "text": [
      "VV_Plus_VH: 884.2275539820935\n",
      "VV_Times_VH: 871.7026405670699\n",
      "B8A: 775.715645523237\n",
      "VH: 755.2612979426252\n",
      "B8: 742.2725780407549\n",
      "VV: 725.4121860745321\n",
      "MNDWI: 703.9354018656819\n",
      "VH_Times_VH: 642.5912114898453\n",
      "B7: 640.3757851589061\n",
      "NDTI: 636.2557394515495\n",
      "VV_Times_VV: 620.846649441348\n",
      "DI: 589.9910097400214\n",
      "B6: 579.5368618518706\n",
      "B11: 509.12001661193756\n",
      "NDVI: 499.3661339175354\n",
      "B12: 303.3137477335596\n",
      "B5: 226.6785730627858\n",
      "B4: 115.36961287538784\n",
      "NDBI: 112.48641377702468\n",
      "VH_VV_Ratio: 46.69236719613062\n",
      "B3: 24.22225541844213\n",
      "B2: 13.777782043804137\n",
      "VV_VH_Ratio: 4.705166748797874\n",
      "EVI: 0.6854178341157883\n"
     ]
    }
   ],
   "source": [
    "X_train_fs, X_test_fs, fs = select_features(X_train, y_train, X_test, f_classif)\n",
    "out_dict = dict()\n",
    "for i in range(len(fs.scores_)):\n",
    "    # print('Feature %d: %f' % (i, fs.scores_[i]))\n",
    "    out_dict[fs.scores_[i]] = cols[i]\n",
    "for k, v in dict(sorted(out_dict.items(), reverse=True)).items():\n",
    "    print(f'{v}: {k}')"
   ]
  },
  {
   "cell_type": "code",
   "execution_count": 34,
   "metadata": {},
   "outputs": [
    {
     "data": {
      "image/png": "[encoded data removed]",
      "text/plain": [
       "<Figure size 640x480 with 1 Axes>"
      ]
     },
     "metadata": {},
     "output_type": "display_data"
    }
   ],
   "source": [
    "plt.bar(list(range(len(fs.scores_))), fs.scores_)\n",
    "plt.show()"
   ]
  },
  {
   "cell_type": "markdown",
   "metadata": {},
   "source": [
    "## Mutual Information"
   ]
  },
  {
   "cell_type": "code",
   "execution_count": 42,
   "metadata": {},
   "outputs": [
    {
     "name": "stdout",
     "output_type": "stream",
     "text": [
      "DI: 0.47607910688853505\n",
      "MNDWI: 0.47030915886887237\n",
      "B12: 0.4505299771208222\n",
      "B11: 0.44907206010155276\n",
      "VV_Times_VH: 0.4391165368415997\n",
      "VH_Times_VH: 0.43325411507812017\n",
      "B8: 0.4261814950930918\n",
      "VV_Plus_VH: 0.42246564859891067\n",
      "B8A: 0.4214782432884645\n",
      "VH: 0.42119702755794064\n",
      "NDTI: 0.41319341825646405\n",
      "NDVI: 0.4130464757323442\n",
      "VV_Times_VV: 0.4092141776140241\n",
      "B7: 0.39699338046389787\n",
      "B6: 0.3749063568622244\n",
      "VV: 0.37419090315975456\n",
      "B5: 0.32539224410946543\n",
      "NDBI: 0.22326783426270813\n",
      "EVI: 0.2129069193150952\n",
      "B4: 0.18911840590359597\n",
      "B3: 0.0947976369637471\n",
      "B2: 0.08147198411834333\n",
      "VH_VV_Ratio: 0.06046586540232113\n",
      "VV_VH_Ratio: 0.04271893802633464\n"
     ]
    }
   ],
   "source": [
    "X_train_fs, X_test_fs, fs = select_features(X_train, y_train, X_test, mutual_info_classif)\n",
    "out_dict = dict()\n",
    "for i in range(len(fs.scores_)):\n",
    "    # print('Feature %d: %f' % (i, fs.scores_[i]))\n",
    "    out_dict[fs.scores_[i]] = cols[i]\n",
    "for k, v in dict(sorted(out_dict.items(), reverse=True)).items():\n",
    "    print(f'{v}: {k}')"
   ]
  },
  {
   "cell_type": "code",
   "execution_count": 36,
   "metadata": {},
   "outputs": [
    {
     "data": {
      "image/png": "[encoded data removed]",
      "text/plain": [
       "<Figure size 640x480 with 1 Axes>"
      ]
     },
     "metadata": {},
     "output_type": "display_data"
    }
   ],
   "source": [
    "plt.bar(list(range(len(fs.scores_))), fs.scores_)\n",
    "plt.show()"
   ]
  },
  {
   "cell_type": "code",
   "execution_count": null,
   "metadata": {},
   "outputs": [],
   "source": []
  }
 ],
 "metadata": {
  "kernelspec": {
   "display_name": "Python 3",
   "language": "python",
   "name": "python3"
  },
  "language_info": {
   "codemirror_mode": {
    "name": "ipython",
    "version": 3
   },
   "file_extension": ".py",
   "mimetype": "text/x-python",
   "name": "python",
   "nbconvert_exporter": "python",
   "pygments_lexer": "ipython3",
   "version": "3.9.17"
  }
 },
 "nbformat": 4,
 "nbformat_minor": 2
}
