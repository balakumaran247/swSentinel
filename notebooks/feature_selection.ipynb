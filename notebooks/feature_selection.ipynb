{
 "cells": [
  {
   "cell_type": "code",
   "execution_count": 115,
   "metadata": {},
   "outputs": [],
   "source": [
    "import pandas as pd\n",
    "import os\n",
    "from numpy import mean, std\n",
    "from sklearn.model_selection import RepeatedStratifiedKFold, train_test_split, cross_val_score\n",
    "from sklearn.feature_selection import SelectKBest, mutual_info_classif\n",
    "from sklearn.feature_selection import f_classif\n",
    "from sklearn.linear_model import LogisticRegression\n",
    "from sklearn.pipeline import Pipeline\n",
    "from sklearn.model_selection import GridSearchCV\n",
    "from matplotlib import pyplot as plt"
   ]
  },
  {
   "cell_type": "code",
   "execution_count": 116,
   "metadata": {},
   "outputs": [],
   "source": [
    "core_path = os.getcwd().replace(\"notebooks\",\"artifacts\")\n",
    "values_path = os.path.join(core_path, \"values.csv\")"
   ]
  },
  {
   "cell_type": "code",
   "execution_count": 117,
   "metadata": {},
   "outputs": [],
   "source": [
    "cols = pd.read_csv(values_path).columns"
   ]
  },
  {
   "cell_type": "code",
   "execution_count": 118,
   "metadata": {},
   "outputs": [],
   "source": [
    "def load_dataset(file):\n",
    "    data = pd.read_csv(file, header=None)\n",
    "    dataset = data.values\n",
    "    X = dataset[:, :-2]\n",
    "    y = dataset[:,-1]\n",
    "    return X, y"
   ]
  },
  {
   "cell_type": "code",
   "execution_count": 119,
   "metadata": {},
   "outputs": [],
   "source": [
    "X, y = load_dataset(values_path)\n",
    "X_train, X_test, y_train, y_test = train_test_split(X, y, test_size=0.33, random_state=1)"
   ]
  },
  {
   "cell_type": "code",
   "execution_count": 120,
   "metadata": {},
   "outputs": [],
   "source": [
    "def select_features(X_train, y_train, X_test, score):\n",
    "    fs = SelectKBest(score_func=score, k='all')\n",
    "    fs.fit(X_train, y_train)\n",
    "    X_train_fs = fs.transform(X_train)\n",
    "    X_test_fs = fs.transform(X_test)\n",
    "    return X_train_fs, X_test_fs, fs"
   ]
  },
  {
   "cell_type": "markdown",
   "metadata": {},
   "source": [
    "## ANOVA f-test"
   ]
  },
  {
   "cell_type": "code",
   "execution_count": 121,
   "metadata": {},
   "outputs": [
    {
     "name": "stdout",
     "output_type": "stream",
     "text": [
      "f_classif\n",
      "0 > 884.2275539820935: VV_Plus_VH\n",
      "1 > 871.7026405670699: VV_Times_VH\n",
      "2 > 775.715645523237: B8A\n",
      "3 > 755.2612979426252: VH\n",
      "4 > 742.2725780407549: B8\n",
      "5 > 725.4121860745321: VV\n",
      "6 > 703.9354018656819: MNDWI\n",
      "7 > 642.5912114898453: VH_Times_VH\n",
      "8 > 640.3757851589061: B7\n",
      "9 > 636.2557394515495: NDTI\n",
      "10 > 620.846649441348: VV_Times_VV\n",
      "11 > 589.9910097400214: DI\n",
      "12 > 579.5368618518706: B6\n",
      "13 > 509.12001661193756: B11\n",
      "14 > 499.3661339175354: NDVI\n",
      "15 > 303.3137477335596: B12\n",
      "16 > 226.6785730627858: B5\n",
      "17 > 115.36961287538784: B4\n",
      "18 > 112.48641377702468: NDBI\n",
      "19 > 46.69236719613062: VH_VV_Ratio\n",
      "20 > 24.22225541844213: B3\n",
      "21 > 13.777782043804137: B2\n",
      "22 > 4.705166748797874: VV_VH_Ratio\n",
      "23 > 0.6854178341157883: EVI\n"
     ]
    }
   ],
   "source": [
    "X_train_fs, X_test_fs, fs = select_features(X_train, y_train, X_test, f_classif)\n",
    "out_dict = dict()\n",
    "for i in range(len(fs.scores_)):\n",
    "    # print('Feature %d: %f' % (i, fs.scores_[i]))\n",
    "    out_dict[fs.scores_[i]] = cols[i]\n",
    "print('f_classif')\n",
    "for ix, i in enumerate(dict(sorted(out_dict.items(), reverse=True)).items()):\n",
    "    print(f'{ix} > {i[0]}: {i[1]}')"
   ]
  },
  {
   "cell_type": "code",
   "execution_count": 122,
   "metadata": {},
   "outputs": [
    {
     "data": {
      "image/png": "[encoded data removed]",
      "text/plain": [
       "<Figure size 640x480 with 1 Axes>"
      ]
     },
     "metadata": {},
     "output_type": "display_data"
    }
   ],
   "source": [
    "plt.bar(list(range(len(fs.scores_))), fs.scores_)\n",
    "plt.show()"
   ]
  },
  {
   "cell_type": "markdown",
   "metadata": {},
   "source": [
    "## Mutual Information"
   ]
  },
  {
   "cell_type": "code",
   "execution_count": 123,
   "metadata": {},
   "outputs": [
    {
     "name": "stdout",
     "output_type": "stream",
     "text": [
      "mutual_info_classif\n",
      "0 > 0.47607910688853505: DI\n",
      "1 > 0.47030915886887237: MNDWI\n",
      "2 > 0.4505299771208222: B12\n",
      "3 > 0.448372936328425: B11\n",
      "4 > 0.4391165368415997: VV_Times_VH\n",
      "5 > 0.43325411507812017: VH_Times_VH\n",
      "6 > 0.42322445191546043: B8\n",
      "7 > 0.42246564859891067: VV_Plus_VH\n",
      "8 > 0.42119702755794064: VH\n",
      "9 > 0.42103802798665746: B8A\n",
      "10 > 0.41319341825646405: NDTI\n",
      "11 > 0.4130464757323442: NDVI\n",
      "12 > 0.4092141776140241: VV_Times_VV\n",
      "13 > 0.3960621658138299: B7\n",
      "14 > 0.3766445560829246: B6\n",
      "15 > 0.37419090315975456: VV\n",
      "16 > 0.3240704274752606: B5\n",
      "17 > 0.22326783426270813: NDBI\n",
      "18 > 0.2129069193150952: EVI\n",
      "19 > 0.18286749900051502: B4\n",
      "20 > 0.10033933391673444: B3\n",
      "21 > 0.07922868275739492: B2\n",
      "22 > 0.06046586540232113: VH_VV_Ratio\n",
      "23 > 0.04271893802633464: VV_VH_Ratio\n"
     ]
    }
   ],
   "source": [
    "X_train_fs, X_test_fs, fs = select_features(X_train, y_train, X_test, mutual_info_classif)\n",
    "out_dict = dict()\n",
    "for i in range(len(fs.scores_)):\n",
    "    # print('Feature %d: %f' % (i, fs.scores_[i]))\n",
    "    out_dict[fs.scores_[i]] = cols[i]\n",
    "print('mutual_info_classif')\n",
    "for ix, i in enumerate(dict(sorted(out_dict.items(), reverse=True)).items()):\n",
    "    print(f'{ix} > {i[0]}: {i[1]}')"
   ]
  },
  {
   "cell_type": "code",
   "execution_count": 124,
   "metadata": {},
   "outputs": [
    {
     "data": {
      "image/png": "[encoded data removed]",
      "text/plain": [
       "<Figure size 640x480 with 1 Axes>"
      ]
     },
     "metadata": {},
     "output_type": "display_data"
    }
   ],
   "source": [
    "plt.bar(list(range(len(fs.scores_))), fs.scores_)\n",
    "plt.show()"
   ]
  },
  {
   "cell_type": "markdown",
   "metadata": {},
   "source": [
    "## GridSearchCV"
   ]
  },
  {
   "cell_type": "code",
   "execution_count": 125,
   "metadata": {},
   "outputs": [
    {
     "name": "stdout",
     "output_type": "stream",
     "text": [
      "Best Mean Accuracy: 0.958\n",
      "Best Config: {'anova__k': 22, 'anova__score_func': <function f_classif at 0x000001992BDC1160>}\n"
     ]
    }
   ],
   "source": [
    "cv = RepeatedStratifiedKFold(n_splits=10, n_repeats=3, random_state=1)\n",
    "model = LogisticRegression(solver='liblinear')\n",
    "fs = SelectKBest()#score_func=f_classif)\n",
    "pipeline = Pipeline(steps=[('anova',fs), ('lr', model)])\n",
    "grid = dict()\n",
    "grid['anova__k'] = [i+1 for i in range(X.shape[1])]\n",
    "grid['anova__score_func'] = [f_classif, mutual_info_classif]\n",
    "search = GridSearchCV(pipeline, grid, scoring='accuracy', n_jobs=-1, cv=cv)\n",
    "results = search.fit(X[1:,:], y[1:])\n",
    "print('Best Mean Accuracy: %.3f' % results.best_score_)\n",
    "print(f'Best Config: {results.best_params_}')"
   ]
  },
  {
   "cell_type": "markdown",
   "metadata": {},
   "source": [
    "## score for each k-value and viz"
   ]
  },
  {
   "cell_type": "code",
   "execution_count": 126,
   "metadata": {},
   "outputs": [],
   "source": [
    "def evaluate_model(model, X, y):\n",
    "    cv = RepeatedStratifiedKFold(n_splits=10, n_repeats=3, random_state=1)\n",
    "    return cross_val_score(\n",
    "        model, X, y, scoring='accuracy', cv=cv, n_jobs=-1, error_score='raise'\n",
    "    )"
   ]
  },
  {
   "cell_type": "code",
   "execution_count": 127,
   "metadata": {},
   "outputs": [],
   "source": [
    "num_features = [i+1 for i in range(X.shape[1])]"
   ]
  },
  {
   "cell_type": "code",
   "execution_count": 128,
   "metadata": {},
   "outputs": [],
   "source": [
    "def run_evaluation(score_func, X, y):\n",
    "    num_features = [i+1 for i in range(X.shape[1])]\n",
    "    results = list()\n",
    "    for k in num_features:\n",
    "        model = LogisticRegression(solver='liblinear')\n",
    "        fs = SelectKBest(score_func=score_func, k=k)\n",
    "        pipeline = Pipeline(steps=[('anova',fs), ('lr', model)])\n",
    "        scores = evaluate_model(pipeline, X, y)\n",
    "        results.append(scores)\n",
    "        print('>%d %.3f (%.3f)' % (k, mean(scores), std(scores)))\n",
    "    return results"
   ]
  },
  {
   "cell_type": "code",
   "execution_count": 129,
   "metadata": {},
   "outputs": [
    {
     "name": "stdout",
     "output_type": "stream",
     "text": [
      "f_classif:\n"
     ]
    },
    {
     "name": "stdout",
     "output_type": "stream",
     "text": [
      ">1 0.904 (0.043)\n",
      ">2 0.905 (0.036)\n",
      ">3 0.927 (0.042)\n",
      ">4 0.943 (0.029)\n",
      ">5 0.940 (0.027)\n",
      ">6 0.943 (0.028)\n",
      ">7 0.946 (0.028)\n",
      ">8 0.944 (0.028)\n",
      ">9 0.945 (0.025)\n",
      ">10 0.941 (0.028)\n",
      ">11 0.942 (0.027)\n",
      ">12 0.942 (0.026)\n",
      ">13 0.942 (0.026)\n",
      ">14 0.943 (0.029)\n",
      ">15 0.943 (0.027)\n",
      ">16 0.940 (0.026)\n",
      ">17 0.941 (0.026)\n",
      ">18 0.941 (0.027)\n",
      ">19 0.942 (0.026)\n",
      ">20 0.942 (0.026)\n",
      ">21 0.955 (0.025)\n",
      ">22 0.958 (0.024)\n",
      ">23 0.958 (0.024)\n",
      ">24 0.957 (0.023)\n"
     ]
    }
   ],
   "source": [
    "print('f_classif:')\n",
    "results = run_evaluation(f_classif, X[1:,:], y[1:])"
   ]
  },
  {
   "cell_type": "code",
   "execution_count": 130,
   "metadata": {},
   "outputs": [
    {
     "data": {
      "image/png": "[encoded data removed]",
      "text/plain": [
       "<Figure size 640x480 with 1 Axes>"
      ]
     },
     "metadata": {},
     "output_type": "display_data"
    }
   ],
   "source": [
    "plt.boxplot(results, labels=num_features, showmeans=True)\n",
    "plt.show()"
   ]
  },
  {
   "cell_type": "markdown",
   "metadata": {},
   "source": [
    "## Selection:\n",
    "The following bands are being considered for the model even thought the scoring\n",
    "system had given 22 features are required for max accuracy,\n",
    "\n",
    "VV_Plus_VH,\n",
    "VV_Times_VH,\n",
    "B8,\n",
    "MNDWI,\n",
    "VH_Times_VH,\n",
    "NDTI,\n",
    "VV_Times_VV,\n",
    "DI,\n",
    "NDVI\n",
    "\n",
    "some bands of S2 were neglected as they are of coarser resolution\n",
    "\n",
    "NDBI is neglected based on EDA observations, water pixel values falling all over\n",
    "the range and nonWater pixels are falling completely inside the water range."
   ]
  },
  {
   "cell_type": "markdown",
   "metadata": {},
   "source": [
    "Reference:\n",
    "\n",
    "https://machinelearningmastery.com/feature-selection-with-numerical-input-data/#:~:text=The%20two%20most%20commonly%20used,and%20the%20mutual%20information%20statistic."
   ]
  }
 ],
 "metadata": {
  "kernelspec": {
   "display_name": "Python 3",
   "language": "python",
   "name": "python3"
  },
  "language_info": {
   "codemirror_mode": {
    "name": "ipython",
    "version": 3
   },
   "file_extension": ".py",
   "mimetype": "text/x-python",
   "name": "python",
   "nbconvert_exporter": "python",
   "pygments_lexer": "ipython3",
   "version": "3.9.17"
  }
 },
 "nbformat": 4,
 "nbformat_minor": 2
}
