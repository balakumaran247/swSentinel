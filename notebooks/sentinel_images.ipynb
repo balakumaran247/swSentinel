{
  "cells": [
    {
      "cell_type": "code",
      "execution_count": null,
      "metadata": {
        "id": "0j8WLiz6-r4k"
      },
      "outputs": [],
      "source": [
        "# import, authenticate and initialize ee\n",
        "import ee\n",
        "ee.Initialize()"
      ]
    },
    {
      "cell_type": "code",
      "execution_count": null,
      "metadata": {
        "id": "YIUo1GMw-1KR"
      },
      "outputs": [],
      "source": [
        "# for S1_ARD correction\n",
        "# make sure all the python-api files from GitHub is in path\n",
        "# https://github.com/adugnag/gee_s1_ard\n",
        "import wrapper as wp\n",
        "import border_noise_correction as bnc\n",
        "import speckle_filter as sf\n",
        "import terrain_flattening as trf\n",
        "import helper"
      ]
    },
    {
      "cell_type": "code",
      "execution_count": null,
      "metadata": {
        "id": "VZCPF7Wg-4KG"
      },
      "outputs": [],
      "source": [
        "ee_path = 'users/balakumaran247/swSentinel/state'"
      ]
    },
    {
      "cell_type": "code",
      "execution_count": null,
      "metadata": {
        "id": "0CjTHIXU_Itk"
      },
      "outputs": [],
      "source": [
        "# state names as in SOI fc\n",
        "states = {\n",
        "    \"KA\": \"KARN>TAKA\",\n",
        "    \"TN\": \"TAMIL N>DU\",\n",
        "    \"AP\": \"ANDHRA PRADESH\"\n",
        "    }"
      ]
    },
    {
      "cell_type": "code",
      "execution_count": null,
      "metadata": {
        "id": "eM3yqpYQ_L4x"
      },
      "outputs": [],
      "source": [
        "def filter_geometry(state_name: str) -> ee.Geometry:\n",
        "  return (ee.FeatureCollection(\n",
        "      'users/balakumaran247/swSentinel/SOI_States').filter(\n",
        "          ee.Filter.eq(\"STATE\", state_name)).geometry())"
      ]
    },
    {
      "cell_type": "code",
      "execution_count": null,
      "metadata": {
        "id": "CxSbB31b_OuZ"
      },
      "outputs": [],
      "source": [
        "def fetch_dw(geometry: ee.Geometry) -> ee.ImageCollection:\n",
        "  return ee.ImageCollection(\n",
        "    'projects/wri-datalab/dynamic_world/v1/DW_LABELS'\n",
        "    ).filterBounds(geometry)"
      ]
    },
    {
      "cell_type": "code",
      "execution_count": null,
      "metadata": {
        "id": "TJKnyX5l_VFe"
      },
      "outputs": [],
      "source": [
        "# Function to fetch Sentinel-2 images by 'PRODUCT_ID'\n",
        "def fetch_matching_s2_image(image):\n",
        "    # Get the 'S2_PRODUCT_ID' property\n",
        "    product_id = image.get('S2_PRODUCT_ID')\n",
        "\n",
        "    # Filter the Sentinel-2 Surface Reflectance dataset by 'PRODUCT_ID'\n",
        "    sentinel2_image = ee.ImageCollection('COPERNICUS/S2_SR') \\\n",
        "        .filterMetadata('PRODUCT_ID', 'equals', product_id) \\\n",
        "        .first()\n",
        "\n",
        "    return sentinel2_image"
      ]
    },
    {
      "cell_type": "code",
      "execution_count": null,
      "metadata": {
        "id": "U47b1o-RARHr"
      },
      "outputs": [],
      "source": [
        "def fetch_s2(icoll: ee.ImageCollection) -> ee.ImageCollection:\n",
        "  return icoll.map(fetch_matching_s2_image)"
      ]
    },
    {
      "cell_type": "code",
      "execution_count": null,
      "metadata": {
        "id": "HOcb23eDAwpp"
      },
      "outputs": [],
      "source": [
        "# Function to calculate indices for Sentinel-2 Surface Reflectance Images\n",
        "def calculate_indices(image):\n",
        "    # Calculate NDVI\n",
        "    ndvi = image.normalizedDifference(['B8', 'B4']).rename('NDVI')\n",
        "\n",
        "    # Calculate MNDWI\n",
        "    mndwi = image.normalizedDifference(['B3', 'B11']).rename('MNDWI')\n",
        "\n",
        "    # Calculate EVI\n",
        "    evi = image.expression(\n",
        "        '2.5 * ((NIR - RED) / (NIR + 6 * RED - 7.5 * BLUE + 1))',\n",
        "        {\n",
        "            'NIR': image.select('B8'),\n",
        "            'RED': image.select('B4'),\n",
        "            'BLUE': image.select('B2')\n",
        "        }\n",
        "    ).rename('EVI')\n",
        "\n",
        "    # Calculate NDTI\n",
        "    ndti = image.normalizedDifference(['B3', 'B12']).rename('NDTI')\n",
        "\n",
        "    # Calculate NDBI\n",
        "    ndbi = image.normalizedDifference(['B11', 'B8']).rename('NDBI')\n",
        "\n",
        "    # Calculate DI\n",
        "    di = image.expression(\n",
        "        '((SWIR1 + NIR) - (GREEN + SWIR2)) / ((SWIR1 + NIR) + (GREEN + SWIR2))',\n",
        "        {\n",
        "            'SWIR1': image.select('B11'),\n",
        "            'NIR': image.select('B8'),\n",
        "            'GREEN': image.select('B3'),\n",
        "            'SWIR2': image.select('B12')\n",
        "        }\n",
        "    ).rename('DI')\n",
        "\n",
        "    # Return the image with calculated indices\n",
        "    return image.addBands([ndvi, mndwi, evi, ndti, ndbi, di])"
      ]
    },
    {
      "cell_type": "code",
      "execution_count": null,
      "metadata": {
        "id": "ifDqMmzcCEwT"
      },
      "outputs": [],
      "source": [
        "def find_closest_s1(image):\n",
        "    # Get the acquisition date of the image\n",
        "    date = ee.Date(image.get('system:time_start'))\n",
        "\n",
        "    # Filter the Sentinel-1 collection\n",
        "    sar_image = ee.ImageCollection('COPERNICUS/S1_GRD_FLOAT')\\\n",
        "        .filterDate(date.advance(-15, 'day'), date.advance(15, 'day')) \\\n",
        "        .filterBounds(image.geometry())\\\n",
        "        .filter(ee.Filter.eq('instrumentMode', 'IW'))\\\n",
        "        .filter(ee.Filter.eq('resolution_meters', 10)) \\\n",
        "        .filter(ee.Filter.listContains('transmitterReceiverPolarisation', 'VH'))\\\n",
        "        .select(['VV', 'VH', 'angle'])\n",
        "\n",
        "    return sar_image"
      ]
    },
    {
      "cell_type": "code",
      "execution_count": null,
      "metadata": {
        "id": "ooGppj4nCL1x"
      },
      "outputs": [],
      "source": [
        "def fetch_s1(icoll: ee.ImageCollection) -> ee.ImageCollection:\n",
        "  return ee.ImageCollection(icoll.map(find_closest_s1).flatten())"
      ]
    },
    {
      "cell_type": "code",
      "execution_count": null,
      "metadata": {
        "id": "R4T2phwcCfnf"
      },
      "outputs": [],
      "source": [
        "def s1_correction(icoll: ee.ImageCollection) -> ee.ImageCollection:\n",
        "  SPECKLE_FILTER = 'GAMMA MAP'\n",
        "  SPECKLE_FILTER_KERNEL_SIZE = 9\n",
        "  SPECKLE_FILTER_NR_OF_IMAGES = 10\n",
        "  TERRAIN_FLATTENING_MODEL = 'VOLUME'\n",
        "  DEM = ee.Image('USGS/SRTMGL1_003')\n",
        "  TERRAIN_FLATTENING_ADDITIONAL_LAYOVER_SHADOW_BUFFER = 0\n",
        "  s1_1 = icoll.map(bnc.f_mask_edges)\n",
        "  s1_1 = ee.ImageCollection(sf.MultiTemporal_Filter(s1_1, SPECKLE_FILTER_KERNEL_SIZE, SPECKLE_FILTER, SPECKLE_FILTER_NR_OF_IMAGES))\n",
        "  s1_1 = ee.ImageCollection(trf.slope_correction(s1_1,TERRAIN_FLATTENING_MODEL,DEM,TERRAIN_FLATTENING_ADDITIONAL_LAYOVER_SHADOW_BUFFER))\n",
        "  return s1_1.map(helper.lin_to_db)"
      ]
    },
    {
      "cell_type": "code",
      "execution_count": null,
      "metadata": {
        "id": "n_5lAnxxC38g"
      },
      "outputs": [],
      "source": [
        "def calculate_combinations(image):\n",
        "    # Calculate VH/VV ratio\n",
        "    vh_vv_ratio = image.select('VV').divide(image.select('VH')).rename('VH_VV_Ratio')\n",
        "\n",
        "    # Calculate VV/VH ratio\n",
        "    vv_vh_ratio = image.select('VH').divide(image.select('VV')).rename('VV_VH_Ratio')\n",
        "\n",
        "    # Calculate VV+VH\n",
        "    vv_plus_vh = image.select('VV').add(image.select('VH')).rename('VV_Plus_VH')\n",
        "\n",
        "    # Calculate VV*VH\n",
        "    vv_times_vh = image.select('VV').multiply(image.select('VH')).rename('VV_Times_VH')\n",
        "\n",
        "    # Calculate VV*VV\n",
        "    vv_times_vv = image.select('VV').multiply(image.select('VV')).rename('VV_Times_VV')\n",
        "\n",
        "    # Calculate VH*VH\n",
        "    vh_times_vh = image.select('VH').multiply(image.select('VH')).rename('VH_Times_VH')\n",
        "\n",
        "    # Return the image with calculated indices or band combinations\n",
        "    return image.addBands([vh_vv_ratio, vv_vh_ratio, vv_plus_vh, vv_times_vh, vv_times_vv, vh_times_vh])"
      ]
    },
    {
      "cell_type": "code",
      "execution_count": null,
      "metadata": {
        "id": "uN6FLzv9C9Ek"
      },
      "outputs": [],
      "source": [
        "def preprocess_mosaic_s1(s1_coll: ee.ImageCollection) -> ee.Image:\n",
        "  return s1_coll.map(calculate_combinations).mean()"
      ]
    },
    {
      "cell_type": "code",
      "execution_count": null,
      "metadata": {
        "id": "ggRb4PaOAyIP"
      },
      "outputs": [],
      "source": [
        "def export_image(image, geometry, state_abb, satellite_name):\n",
        "  task = ee.batch.Export.image.toAsset(\n",
        "    image = image,\n",
        "    description = f'{state_abb}_{satellite_name}_image',\n",
        "    assetId = f'{ee_path}/{state_abb}_{satellite_name}_image',\n",
        "    crs = 'EPSG:4326',\n",
        "    scale = 10,\n",
        "    region = geometry,\n",
        "    maxPixels = 1e13\n",
        "  )\n",
        "  task.start()"
      ]
    },
    {
      "cell_type": "code",
      "execution_count": null,
      "metadata": {
        "id": "LS5X0yim_c4D"
      },
      "outputs": [],
      "source": [
        "for state_abb, state_name in states.items():\n",
        "  geometry = filter_geometry(state_name)\n",
        "  dw_filtered = fetch_dw(geometry)\n",
        "  s2_collection = fetch_s2(dw_filtered)\n",
        "  s2_final = s2_collection.map(calculate_indices).qualityMosaic('MNDWI')\n",
        "  s1_collection = fetch_s1(dw_filtered)\n",
        "  s1_corrected = s1_correction(s1_collection)\n",
        "  s1_final = preprocess_mosaic_s1(s1_corrected)\n",
        "  # export_image(s2_final, geometry, state_abb, 's2')\n",
        "  # export_image(s1_final, geometry, state_abb, 's1')\n",
        "  \n",
        "  # After Feature selection reran below statements\n",
        "  s2_bands = ['B8', 'MNDWI', 'NDTI', 'DI', 'NDVI']\n",
        "  s1_bands = ['VV_Plus_VH', 'VV_Times_VH', 'VH_Times_VH', 'VV_Times_VV']\n",
        "  export_image(s2_final.select(s2_bands), geometry, state_abb, 's2')\n",
        "  export_image(s1_final.select(s1_bands), geometry, state_abb, 's1')"
      ]
    }
  ],
  "metadata": {
    "colab": {
      "provenance": []
    },
    "kernelspec": {
      "display_name": "Python 3",
      "name": "python3"
    },
    "language_info": {
      "name": "python"
    }
  },
  "nbformat": 4,
  "nbformat_minor": 0
}
