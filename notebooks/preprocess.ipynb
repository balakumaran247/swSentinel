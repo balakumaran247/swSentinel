{
 "cells": [
  {
   "cell_type": "code",
   "execution_count": 1,
   "metadata": {},
   "outputs": [],
   "source": [
    "import os\n",
    "import pandas as pd"
   ]
  },
  {
   "cell_type": "code",
   "execution_count": 2,
   "metadata": {},
   "outputs": [],
   "source": [
    "core_path = os.getcwd().replace(\"notebooks\",\"artifacts\")\n",
    "path = os.path.join(core_path, \"state_band_values\")\n",
    "out_path = os.path.join(core_path, \"values.csv\")"
   ]
  },
  {
   "cell_type": "code",
   "execution_count": 3,
   "metadata": {},
   "outputs": [],
   "source": [
    "s1_dfs, s2_dfs = [], []\n",
    "for file in os.listdir(path):\n",
    "    if os.path.splitext(file)[1] == '.csv':\n",
    "        filepath = os.path.join(path, file)\n",
    "        data, state, classN = file.replace('.csv','').split('_')\n",
    "        df = pd.read_csv(filepath)\n",
    "        if data == 'S1':\n",
    "            s1_dfs.append(df)\n",
    "        elif data == 'S2':\n",
    "            df['State'] = state\n",
    "            df['wClass'] = classN\n",
    "            s2_dfs.append(df)\n",
    "        else:\n",
    "            print(f'{file} is of different raster data: {data}')"
   ]
  },
  {
   "cell_type": "code",
   "execution_count": 4,
   "metadata": {},
   "outputs": [],
   "source": [
    "values = pd.merge(pd.concat(s1_dfs), pd.concat(s2_dfs), on='.geo')"
   ]
  },
  {
   "cell_type": "code",
   "execution_count": 5,
   "metadata": {},
   "outputs": [
    {
     "data": {
      "text/plain": [
       "(761, 43)"
      ]
     },
     "execution_count": 5,
     "metadata": {},
     "output_type": "execute_result"
    }
   ],
   "source": [
    "values.shape"
   ]
  },
  {
   "cell_type": "code",
   "execution_count": 6,
   "metadata": {},
   "outputs": [
    {
     "data": {
      "text/plain": [
       "Index(['system:index_x', 'VH', 'VH_Times_VH', 'VH_VV_Ratio', 'VV',\n",
       "       'VV_Plus_VH', 'VV_Times_VH', 'VV_Times_VV', 'VV_VH_Ratio', 'angle',\n",
       "       '.geo', 'system:index_y', 'AOT', 'B1', 'B11', 'B12', 'B2', 'B3', 'B4',\n",
       "       'B5', 'B6', 'B7', 'B8', 'B8A', 'B9', 'DI', 'EVI', 'MNDWI', 'MSK_CLDPRB',\n",
       "       'MSK_SNWPRB', 'NDBI', 'NDTI', 'NDVI', 'QA10', 'QA20', 'QA60', 'SCL',\n",
       "       'TCI_B', 'TCI_G', 'TCI_R', 'WVP', 'State', 'wClass'],\n",
       "      dtype='object')"
      ]
     },
     "execution_count": 6,
     "metadata": {},
     "output_type": "execute_result"
    }
   ],
   "source": [
    "values.columns"
   ]
  },
  {
   "cell_type": "code",
   "execution_count": 7,
   "metadata": {},
   "outputs": [],
   "source": [
    "drop_cols = [\n",
    "    'system:index_x', 'system:index_y', 'angle', '.geo', 'AOT', 'B1', 'B9',\n",
    "    'MSK_CLDPRB', 'MSK_SNWPRB', 'QA10', 'QA20', 'QA60', 'SCL', 'TCI_B', 'TCI_G',\n",
    "    'TCI_R', 'WVP']\n",
    "values.drop(drop_cols, axis=1, inplace=True)"
   ]
  },
  {
   "cell_type": "code",
   "execution_count": 8,
   "metadata": {},
   "outputs": [
    {
     "data": {
      "text/html": [
       "<div>\n",
       "<style scoped>\n",
       "    .dataframe tbody tr th:only-of-type {\n",
       "        vertical-align: middle;\n",
       "    }\n",
       "\n",
       "    .dataframe tbody tr th {\n",
       "        vertical-align: top;\n",
       "    }\n",
       "\n",
       "    .dataframe thead th {\n",
       "        text-align: right;\n",
       "    }\n",
       "</style>\n",
       "<table border=\"1\" class=\"dataframe\">\n",
       "  <thead>\n",
       "    <tr style=\"text-align: right;\">\n",
       "      <th></th>\n",
       "      <th>VH</th>\n",
       "      <th>VH_Times_VH</th>\n",
       "      <th>VH_VV_Ratio</th>\n",
       "      <th>VV</th>\n",
       "      <th>VV_Plus_VH</th>\n",
       "      <th>VV_Times_VH</th>\n",
       "      <th>VV_Times_VV</th>\n",
       "      <th>VV_VH_Ratio</th>\n",
       "      <th>B11</th>\n",
       "      <th>B12</th>\n",
       "      <th>...</th>\n",
       "      <th>B8</th>\n",
       "      <th>B8A</th>\n",
       "      <th>DI</th>\n",
       "      <th>EVI</th>\n",
       "      <th>MNDWI</th>\n",
       "      <th>NDBI</th>\n",
       "      <th>NDTI</th>\n",
       "      <th>NDVI</th>\n",
       "      <th>State</th>\n",
       "      <th>wClass</th>\n",
       "    </tr>\n",
       "  </thead>\n",
       "  <tbody>\n",
       "    <tr>\n",
       "      <th>0</th>\n",
       "      <td>-20.471160</td>\n",
       "      <td>419.068380</td>\n",
       "      <td>0.534892</td>\n",
       "      <td>-10.949850</td>\n",
       "      <td>-31.421009</td>\n",
       "      <td>224.156122</td>\n",
       "      <td>119.899209</td>\n",
       "      <td>1.869538</td>\n",
       "      <td>2312</td>\n",
       "      <td>1921</td>\n",
       "      <td>...</td>\n",
       "      <td>1900</td>\n",
       "      <td>1959</td>\n",
       "      <td>0.135157</td>\n",
       "      <td>0.160226</td>\n",
       "      <td>-0.284444</td>\n",
       "      <td>0.097816</td>\n",
       "      <td>-0.197258</td>\n",
       "      <td>0.077098</td>\n",
       "      <td>KA</td>\n",
       "      <td>nonWater</td>\n",
       "    </tr>\n",
       "    <tr>\n",
       "      <th>1</th>\n",
       "      <td>-12.451718</td>\n",
       "      <td>157.279416</td>\n",
       "      <td>0.584572</td>\n",
       "      <td>-7.184558</td>\n",
       "      <td>-19.636276</td>\n",
       "      <td>89.623977</td>\n",
       "      <td>52.108571</td>\n",
       "      <td>1.748148</td>\n",
       "      <td>2709</td>\n",
       "      <td>1798</td>\n",
       "      <td>...</td>\n",
       "      <td>2224</td>\n",
       "      <td>2543</td>\n",
       "      <td>0.329650</td>\n",
       "      <td>1.298890</td>\n",
       "      <td>-0.594467</td>\n",
       "      <td>0.098317</td>\n",
       "      <td>-0.445919</td>\n",
       "      <td>0.472848</td>\n",
       "      <td>KA</td>\n",
       "      <td>nonWater</td>\n",
       "    </tr>\n",
       "    <tr>\n",
       "      <th>2</th>\n",
       "      <td>-21.045413</td>\n",
       "      <td>443.430633</td>\n",
       "      <td>0.538398</td>\n",
       "      <td>-11.317876</td>\n",
       "      <td>-32.363289</td>\n",
       "      <td>238.197993</td>\n",
       "      <td>128.094463</td>\n",
       "      <td>1.859419</td>\n",
       "      <td>4444</td>\n",
       "      <td>3536</td>\n",
       "      <td>...</td>\n",
       "      <td>2854</td>\n",
       "      <td>3106</td>\n",
       "      <td>0.215928</td>\n",
       "      <td>0.221991</td>\n",
       "      <td>-0.583185</td>\n",
       "      <td>0.217868</td>\n",
       "      <td>-0.502762</td>\n",
       "      <td>0.165850</td>\n",
       "      <td>KA</td>\n",
       "      <td>nonWater</td>\n",
       "    </tr>\n",
       "    <tr>\n",
       "      <th>3</th>\n",
       "      <td>-15.790104</td>\n",
       "      <td>250.885827</td>\n",
       "      <td>0.554146</td>\n",
       "      <td>-8.694810</td>\n",
       "      <td>-24.484914</td>\n",
       "      <td>137.247900</td>\n",
       "      <td>76.302481</td>\n",
       "      <td>1.833438</td>\n",
       "      <td>3186</td>\n",
       "      <td>2284</td>\n",
       "      <td>...</td>\n",
       "      <td>1942</td>\n",
       "      <td>2160</td>\n",
       "      <td>0.259951</td>\n",
       "      <td>0.847958</td>\n",
       "      <td>-0.628002</td>\n",
       "      <td>0.242590</td>\n",
       "      <td>-0.516600</td>\n",
       "      <td>0.362807</td>\n",
       "      <td>KA</td>\n",
       "      <td>nonWater</td>\n",
       "    </tr>\n",
       "    <tr>\n",
       "      <th>4</th>\n",
       "      <td>-17.177968</td>\n",
       "      <td>296.727165</td>\n",
       "      <td>0.599235</td>\n",
       "      <td>-10.238045</td>\n",
       "      <td>-27.416013</td>\n",
       "      <td>175.894071</td>\n",
       "      <td>106.111523</td>\n",
       "      <td>1.698753</td>\n",
       "      <td>3142</td>\n",
       "      <td>2250</td>\n",
       "      <td>...</td>\n",
       "      <td>2762</td>\n",
       "      <td>2650</td>\n",
       "      <td>0.294595</td>\n",
       "      <td>0.639208</td>\n",
       "      <td>-0.529326</td>\n",
       "      <td>0.064363</td>\n",
       "      <td>-0.398819</td>\n",
       "      <td>0.350611</td>\n",
       "      <td>KA</td>\n",
       "      <td>nonWater</td>\n",
       "    </tr>\n",
       "  </tbody>\n",
       "</table>\n",
       "<p>5 rows × 26 columns</p>\n",
       "</div>"
      ],
      "text/plain": [
       "          VH  VH_Times_VH  VH_VV_Ratio         VV  VV_Plus_VH  VV_Times_VH  \\\n",
       "0 -20.471160   419.068380     0.534892 -10.949850  -31.421009   224.156122   \n",
       "1 -12.451718   157.279416     0.584572  -7.184558  -19.636276    89.623977   \n",
       "2 -21.045413   443.430633     0.538398 -11.317876  -32.363289   238.197993   \n",
       "3 -15.790104   250.885827     0.554146  -8.694810  -24.484914   137.247900   \n",
       "4 -17.177968   296.727165     0.599235 -10.238045  -27.416013   175.894071   \n",
       "\n",
       "   VV_Times_VV  VV_VH_Ratio   B11   B12  ...    B8   B8A        DI       EVI  \\\n",
       "0   119.899209     1.869538  2312  1921  ...  1900  1959  0.135157  0.160226   \n",
       "1    52.108571     1.748148  2709  1798  ...  2224  2543  0.329650  1.298890   \n",
       "2   128.094463     1.859419  4444  3536  ...  2854  3106  0.215928  0.221991   \n",
       "3    76.302481     1.833438  3186  2284  ...  1942  2160  0.259951  0.847958   \n",
       "4   106.111523     1.698753  3142  2250  ...  2762  2650  0.294595  0.639208   \n",
       "\n",
       "      MNDWI      NDBI      NDTI      NDVI  State    wClass  \n",
       "0 -0.284444  0.097816 -0.197258  0.077098     KA  nonWater  \n",
       "1 -0.594467  0.098317 -0.445919  0.472848     KA  nonWater  \n",
       "2 -0.583185  0.217868 -0.502762  0.165850     KA  nonWater  \n",
       "3 -0.628002  0.242590 -0.516600  0.362807     KA  nonWater  \n",
       "4 -0.529326  0.064363 -0.398819  0.350611     KA  nonWater  \n",
       "\n",
       "[5 rows x 26 columns]"
      ]
     },
     "execution_count": 8,
     "metadata": {},
     "output_type": "execute_result"
    }
   ],
   "source": [
    "values.head()"
   ]
  },
  {
   "cell_type": "code",
   "execution_count": 9,
   "metadata": {},
   "outputs": [],
   "source": [
    "values.to_csv(out_path, index=False)"
   ]
  }
 ],
 "metadata": {
  "kernelspec": {
   "display_name": "Python 3",
   "language": "python",
   "name": "python3"
  },
  "language_info": {
   "codemirror_mode": {
    "name": "ipython",
    "version": 3
   },
   "file_extension": ".py",
   "mimetype": "text/x-python",
   "name": "python",
   "nbconvert_exporter": "python",
   "pygments_lexer": "ipython3",
   "version": "3.9.17"
  }
 },
 "nbformat": 4,
 "nbformat_minor": 2
}
